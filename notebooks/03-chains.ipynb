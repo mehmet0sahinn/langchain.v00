{
 "cells": [
  {
   "cell_type": "code",
   "execution_count": 1,
   "id": "38741b11",
   "metadata": {},
   "outputs": [
    {
     "data": {
      "text/plain": [
       "True"
      ]
     },
     "execution_count": 1,
     "metadata": {},
     "output_type": "execute_result"
    }
   ],
   "source": [
    "from dotenv import load_dotenv; load_dotenv()"
   ]
  },
  {
   "cell_type": "markdown",
   "id": "6d4466db",
   "metadata": {},
   "source": [
    "### 1- Prompt Template"
   ]
  },
  {
   "cell_type": "code",
   "execution_count": 2,
   "id": "d17efe19",
   "metadata": {},
   "outputs": [],
   "source": [
    "from langchain.prompts import PromptTemplate\n",
    "\n",
    "prompt_template = PromptTemplate.from_template(\n",
    "    \"Tell me a {adjective} joke about {content}\"\n",
    ")"
   ]
  },
  {
   "cell_type": "code",
   "execution_count": 3,
   "id": "e6654ad7",
   "metadata": {},
   "outputs": [
    {
     "data": {
      "text/plain": [
       "'Tell me a dark joke about Mark Zuckerberg'"
      ]
     },
     "execution_count": 3,
     "metadata": {},
     "output_type": "execute_result"
    }
   ],
   "source": [
    "prompt_template.format(\n",
    "    adjective = \"dark\",\n",
    "    content = \"Mark Zuckerberg\"\n",
    ")"
   ]
  },
  {
   "cell_type": "markdown",
   "id": "5911786b",
   "metadata": {},
   "source": [
    "### 2- Chat with OpenAI"
   ]
  },
  {
   "cell_type": "code",
   "execution_count": 4,
   "id": "14a74af5",
   "metadata": {},
   "outputs": [],
   "source": [
    "from langchain_openai import ChatOpenAI\n",
    "\n",
    "llm = ChatOpenAI()"
   ]
  },
  {
   "cell_type": "code",
   "execution_count": 5,
   "id": "8d39ba4b",
   "metadata": {},
   "outputs": [
    {
     "name": "stdout",
     "output_type": "stream",
     "text": [
      "1. Pursue a bachelor's degree in computer science, software engineering, or a related field.\n",
      "2. Gain experience in programming languages such as Python, Java, or C++.\n",
      "3. Learn about artificial intelligence and machine learning through online courses, books, and workshops.\n",
      "4. Participate in internships or research projects related to AI and data science.\n",
      "5. Develop a portfolio of AI projects, such as creating chatbots, analyzing data sets, or implementing neural networks.\n",
      "6. Consider pursuing a master's degree in AI, machine learning, or a related field for advanced knowledge and skills.\n",
      "7. Stay updated on the latest trends and technologies in AI through networking, conferences, and online communities.\n",
      "8. Obtain relevant certifications in AI and machine learning, such as TensorFlow Developer or Microsoft Certified: Azure AI Engineer Associate.\n",
      "9. Apply for entry-level positions as a Gen AI Engineer in companies that specialize in AI, data science, or technology.\n",
      "10. Continuously improve your skills and expertise in AI by working on challenging projects, collaborating with peers, and seeking mentorship from experienced professionals in the field.\n"
     ]
    }
   ],
   "source": [
    "response = llm.invoke(\"Show me a path for the Gen AI Engineer\")\n",
    "print(response.content)"
   ]
  },
  {
   "cell_type": "markdown",
   "id": "eea3ba0c",
   "metadata": {},
   "source": [
    "### 3- Prompt and LLM's Chain"
   ]
  },
  {
   "cell_type": "code",
   "execution_count": 6,
   "id": "b628ac6a",
   "metadata": {},
   "outputs": [],
   "source": [
    "from langchain_core.prompts import ChatPromptTemplate\n",
    "\n",
    "prompt = ChatPromptTemplate.from_template(\n",
    "    \"Tell me a short joke about {content}.\"\n",
    ")"
   ]
  },
  {
   "cell_type": "code",
   "execution_count": 8,
   "id": "fa2382a1",
   "metadata": {},
   "outputs": [],
   "source": [
    "from langchain_core.output_parsers import StrOutputParser\n",
    "\n",
    "output_parser = StrOutputParser()\n",
    "\n",
    "chain = prompt | llm | output_parser"
   ]
  },
  {
   "cell_type": "code",
   "execution_count": 10,
   "id": "be2b365a",
   "metadata": {},
   "outputs": [
    {
     "data": {
      "text/plain": [
       "\"Why did Mark Zuckerberg go to therapy? Because he couldn't stop poking people.\""
      ]
     },
     "execution_count": 10,
     "metadata": {},
     "output_type": "execute_result"
    }
   ],
   "source": [
    "chain.invoke({\n",
    "    \"content\": \"Mark Zuckerberg\"\n",
    "})"
   ]
  },
  {
   "cell_type": "code",
   "execution_count": 11,
   "id": "f296f442",
   "metadata": {},
   "outputs": [
    {
     "name": "stdout",
     "output_type": "stream",
     "text": [
      "Why did Mark Zuckerberg go to therapy? \n",
      "\n",
      "Because he couldn't stop looking at other people's profiles!\n"
     ]
    }
   ],
   "source": [
    "print(chain.invoke({\n",
    "    \"content\": \"Mark Zuckerberg\"\n",
    "}))"
   ]
  },
  {
   "cell_type": "markdown",
   "id": "d23942c9",
   "metadata": {},
   "source": [
    "### 4- Chat Prompt Template"
   ]
  },
  {
   "cell_type": "code",
   "execution_count": 12,
   "id": "63160524",
   "metadata": {},
   "outputs": [],
   "source": [
    "prompt = ChatPromptTemplate.from_messages(\n",
    "    [(\"system\", \"You are an English- Turkish translator\"),\n",
    "    (\"user\", \"{input}\")]\n",
    ")\n",
    "\n",
    "chain = prompt | llm | output_parser"
   ]
  },
  {
   "cell_type": "code",
   "execution_count": 13,
   "id": "2f1977d2",
   "metadata": {},
   "outputs": [
    {
     "data": {
      "text/plain": [
       "'Başlangıçta Tanrı, göğüsleri ve yeri yarattı.'"
      ]
     },
     "execution_count": 13,
     "metadata": {},
     "output_type": "execute_result"
    }
   ],
   "source": [
    "chain.invoke(\"In the beginning, God created the heavens and the earth.\")"
   ]
  },
  {
   "cell_type": "code",
   "execution_count": 14,
   "id": "bb712dae",
   "metadata": {},
   "outputs": [
    {
     "name": "stdout",
     "output_type": "stream",
     "text": [
      "Başlangıçta, Tanrı göğü ve yeri yarattı.\n"
     ]
    }
   ],
   "source": [
    "print(chain.invoke(\n",
    "    {\n",
    "        \"input\":\"In the beginning, God created the heavens and the earth.\"\n",
    "    }\n",
    "))"
   ]
  },
  {
   "cell_type": "code",
   "execution_count": null,
   "id": "a0c10a71",
   "metadata": {},
   "outputs": [],
   "source": []
  }
 ],
 "metadata": {
  "kernelspec": {
   "display_name": ".venv",
   "language": "python",
   "name": "python3"
  },
  "language_info": {
   "codemirror_mode": {
    "name": "ipython",
    "version": 3
   },
   "file_extension": ".py",
   "mimetype": "text/x-python",
   "name": "python",
   "nbconvert_exporter": "python",
   "pygments_lexer": "ipython3",
   "version": "3.12.3"
  }
 },
 "nbformat": 4,
 "nbformat_minor": 5
}
