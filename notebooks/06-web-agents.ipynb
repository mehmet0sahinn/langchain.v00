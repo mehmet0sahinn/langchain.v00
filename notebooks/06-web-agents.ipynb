{
 "cells": [
  {
   "cell_type": "code",
   "execution_count": 16,
   "id": "d2d0bb35",
   "metadata": {},
   "outputs": [
    {
     "data": {
      "text/plain": [
       "True"
      ]
     },
     "execution_count": 16,
     "metadata": {},
     "output_type": "execute_result"
    }
   ],
   "source": [
    "from dotenv import load_dotenv; load_dotenv()"
   ]
  },
  {
   "cell_type": "markdown",
   "id": "5c4ee724",
   "metadata": {},
   "source": [
    "### 1- Load Docs"
   ]
  },
  {
   "cell_type": "code",
   "execution_count": 3,
   "id": "0854e86a",
   "metadata": {},
   "outputs": [
    {
     "data": {
      "text/plain": [
       "[Document(metadata={'source': 'https://blog.langchain.dev/langgraph/', 'title': 'LangGraph', 'language': 'en'}, page_content='\\n\\n\\nLangGraph\\n\\n\\n\\n\\n\\n\\n\\n\\n\\n\\n\\n\\n\\n\\n\\n\\n\\n\\n\\n\\n\\n\\n\\n\\n\\n\\n\\n\\n\\n\\n\\n\\n\\n\\n\\n\\n\\n\\n\\n\\n\\n\\n\\n\\n\\n\\n\\n\\n\\n\\n\\n\\n\\nSkip to content\\n\\n\\n\\n\\n\\n\\n\\n\\n\\n\\n\\n\\n\\n\\n\\n\\nCase Studies\\n\\n\\n\\n\\nIn the Loop\\n\\n\\n\\n\\nLangChain\\n\\n\\n\\n\\nDocs\\n\\n\\n\\n\\nChangelog\\n\\n\\n\\n\\n\\nSign in\\nSubscribe\\n\\n\\n\\n\\n\\n\\n\\n\\n\\n\\n\\n\\n\\n\\n\\n\\n\\n\\n\\nLangGraph\\n\\nBy LangChain\\n7 min read\\nJan 17, 2024\\n\\n\\n\\n\\n\\nTL;DR: LangGraph is module built on top of LangChain to better enable creation of cyclical graphs, often needed for agent runtimes.Python RepoPython YouTube PlaylistJS RepoIntroductionOne of the things we highlighted in our LangChain v0.1 announcement was the introduction of a new library: LangGraph. LangGraph is built on top of LangChain and completely interoperable with the LangChain ecosystem. It adds new value primarily through the introduction of an easy way to create cyclical graphs. This is often useful when creating agent runtimes.In this blog post, we will first walk through the motivations for LangGraph. We will then cover the basic functionality it provides. We will then spotlight two agent runtimes we\\'ve implemented already. We will then highlight a few of the common modifications to these runtimes we\\'ve heard requests for, and examples of implementing those. We will finish with a preview of what we will be releasing next.MotivationOne of the big value props of LangChain is the ability to easily create custom chains. We\\'ve invested heavily in the functionality for this with LangChain Expression Language. However, so far we\\'ve lacked a method for easily introducing cycles into these chains. Effectively, these chains are directed acyclic graphs (DAGs) - as are most data orchestration frameworks.One of the common patterns we see when people are creating more complex LLM applications is the introduction of cycles into the runtime. These cycles often use the LLM to reason about what to do next in the cycle. A big unlock of LLMs is the ability to use them for these reasoning tasks. This can essentially be thought of as running an LLM in a for-loop. These types of systems are often called agents.An example of why this agentic behavior can be so powerful can be found when considering a typical retrieval augmented generation (RAG) application. In a typical RAG application, a call to a retriever is made that returns some documents. These documents are then passed to an LLM to generate a final answer. While this is often effective, it breaks down in cases when the first retrieval step fails to return any useful results. In this case, it\\'s often ideal if the LLM can reason that the results returned from the retriever are poor, and maybe issue a second (more refined) query to the retriever, and use those results instead. Essentially, running an LLM in a loop helps create applications that are more flexible and thus can accomplish more vague use-cases that may not be predefined.These types of applications are often called agents. The simplest - but at the same time most ambitious - form of these is a loop that essentially has two steps:Call the LLM to determine either (a) what actions to take, or (b) what response to give the userTake given actions, and pass back to step 1These steps are repeated until a final response is generated. This is essentially the loop that powers our core AgentExecutor, and is the same logic that caused projects like AutoGPT to rise in prominence. This is simple because it is a relatively simple loop. It is the most ambitious because it offloads pretty much ALL of the decision making and reasoning ability to the LLM.One thing we\\'ve seen in practice as we\\'ve worked the community and companies to put agents into production is that often times more control is needed. You may want to always force an agent to call particular tool first. You may want have more control over how tools are called. You may want to have different prompts for the agent, depending on that state it is in.When talking about these more controlled flows, we internally refer to them as \"state machines\". See the below diagram from our blog on cognitive architectures.These state machines have the power of being able to loop - allowing for handling of more ambiguous inputs than simple chains. However, there is still an element of human guidance in terms of how that loop is constructed.LangGraph is a way to create these state machines by specifying them as graphs.FunctionalityAt it\\'s core, LangGraph exposes a pretty narrow interface on top of LangChain.StateGraphStateGraph is a class that represents the graph. You initialize this class by passing in a state definition. This state definition represents a central state object that is updated over time. This state is updated by nodes in the graph, which return operations to attributes of this state (in the form of a key-value store).The attributes of this state can be updated in two ways. First, an attribute could be overridden completely. This is useful if you want to nodes to return the new value of an attribute. Second, an attribute could be updated by adding to its value. This is useful if an attribute is a list of actions taken (or something similar) and you want nodes to return new actions taken (and have those automatically added to the attribute).You specify whether an attribute should be overridden or added to when creating the initial state definition. See an example in pseudocode below.from langgraph.graph import StateGraph\\nfrom typing import TypedDict, List, Annotated\\nimport Operator\\n\\n\\nclass State(TypedDict):\\n    input: str\\n    all_actions: Annotated[List[str], operator.add]\\n\\n\\ngraph = StateGraph(State)NodesAfter creating a StateGraph, you then add nodes with graph.add_node(name, value) syntax. The name parameter should be a string that we will use to refer to the node when adding edges. The value parameter should be either a function or LCEL runnable that will be called. This function/LCEL should accept a dictionary in the same form as the State object as input, and output a dictionary with keys of the State object to update.See an example in pseudocode below.graph.add_node(\"model\", model)\\ngraph.add_node(\"tools\", tool_executor)There is also a special END node that is used to represent the end of the graph. It is important that your cycles be able to end eventually!from langgraph.graph import ENDEdgesAfter adding nodes, you can then add edges to create the graph. There are a few types of edges.The Starting EdgeThis is the edge that connects the start of the graph to a particular node. This will make it so that that node is the first one called when input is passed to the graph. Pseudocode for that is:graph.set_entry_point(\"model\")Normal EdgesThese are edges where one node should ALWAYS be called after another. An example of this may be in the basic agent runtime, where we always want the model to be called after we call a tool.graph.add_edge(\"tools\", \"model\")Conditional EdgesThese are where a function (often powered by an LLM) is used to determine which node to go to first. To create this edge, you need to pass in three things:The upstream node: the output of this node will be looked at to determine what to do nextA function: this will be called to determine which node to call next. It should return a stringA mapping: this mapping will be used to map the output of the function in (2) to another node. The keys should be possible values that the function in (2) could return. The values should be names of nodes to go to if that value is returned.An example of this could be that after a model is called we either exit the graph and return to the user, or we call a tool - depending on what a user decides! See an example in pseudocode below:graph.add_conditional_edge(\\n    \"model\",\\n    should_continue,\\n    {\\n        \"end\": END,\\n        \"continue\": \"tools\"\\n    }\\n)CompileAfter we define our graph, we can compile it into a runnable! This simply takes the graph definition we\\'ve created so far an returns a runnable. This runnable exposes all the same method as LangChain runnables (.invoke, .stream, .astream_log, etc) allowing it to be called in the same manner as a chain.app = graph.compile()Agent ExecutorWe\\'ve recreated the canonical LangChain AgentExecutor with LangGraph. This will allow you to use existing LangChain agents, but allow you to more easily modify the internals of the AgentExecutor. The state of this graph by default contains concepts that should be familiar to you if you\\'ve used LangChain agents: input, chat_history, intermediate_steps (and agent_outcome to represent the most recent agent outcome)from typing import TypedDict, Annotated, List, Union\\nfrom langchain_core.agents import AgentAction, AgentFinish\\nfrom langchain_core.messages import BaseMessage\\nimport operator\\n\\n\\nclass AgentState(TypedDict):\\n   input: str\\n   chat_history: list[BaseMessage]\\n   agent_outcome: Union[AgentAction, AgentFinish, None]\\n   intermediate_steps: Annotated[list[tuple[AgentAction, str]], operator.add] See this notebook for how to get startedChat Agent ExecutorOne common trend we\\'ve seen is that more and more models are \"chat\" models which operate on a list of messages. This models are often the ones equipped with things like function calling, which make agent-like experiences much more feasible. When working with these types of models, it is often intuitive to represent the state of an agent as a list of messages.As such, we\\'ve created an agent runtime that works with this state. The input is a list of messages, and nodes just simply add to this list of messages over time.from typing import TypedDict, Annotated, Sequence\\nimport operator\\nfrom langchain_core.messages import BaseMessage\\n\\n\\nclass AgentState(TypedDict):\\n    messages: Annotated[Sequence[BaseMessage], operator.add] See this notebook for how to get startedModificationsOne of the big benefits of LangGraph is that it exposes the logic of AgentExecutor in a far more natural and modifiable way. We\\'ve provided a few examples of modifications that we\\'ve heard requests for:Force Calling a ToolFor when you always want to make an agent call a tool first. For Agent Executor and Chat Agent Executor.Human-in-the-loopHow to add a human-in-the-loop step before calling tools. For Agent Executor and Chat Agent Executor.Managing Agent StepsFor adding custom logic on how to handle the intermediate steps an agent might take (useful for when there\\'s a lot of steps). For Agent Executor and Chat Agent Executor.Returning Output in a Specific FormatHow to make the agent return output in a specific format using function calling. Only for Chat Agent Executor.Dynamically Returning the Output of a Tool DirectlySometimes you may want to return the output of a tool directly. We provide an easy way to do with the return_direct parameter in LangChain. However, this makes it so that the output of a tool is ALWAYS returned directly. Sometimes, you may want to let the LLM choose whether to return the response directly or not. Only for Chat Agent Executor.Future WorkWe\\'re incredibly excited about the possibility of LangGraph enabling more custom and powerful agent runtimes. Some of the things we are looking to implement in the near future:More advanced agent runtimes from academia (LLM Compiler, plan-and-solve, etc)Stateful tools (allowing tools to modify some state)More controlled human-in-the-loop workflowsMulti-agent workflowsIf any of these resonate with you, please feel free to add an example notebook in the LangGraph repo, or reach out to us at hello@langchain.dev for more involved collaboration!\\n\\n\\nTags\\nBy LangChain\\n\\n\\nJoin our newsletter\\nUpdates from the LangChain team and community\\n\\n\\nEnter your email\\n\\nSubscribe\\n\\nProcessing your application...\\nSuccess! Please check your inbox and click the link to confirm your subscription.\\nSorry, something went wrong. Please try again.\\n\\n\\n\\n\\n\\nYou might also like\\n\\n\\n\\n\\n\\n\\n\\n\\n\\n\\nIntroducing End-to-End OpenTelemetry Support in LangSmith\\n\\n\\nBy LangChain\\n3 min read\\n\\n\\n\\n\\n\\n\\n\\n\\n\\n\\n\\n\\nLangChain State of AI 2024 Report\\n\\n\\nBy LangChain\\n6 min read\\n\\n\\n\\n\\n\\n\\n\\n\\n\\n\\n\\n\\nIntroducing OpenTelemetry support for LangSmith\\n\\n\\nBy LangChain\\n4 min read\\n\\n\\n\\n\\n\\n\\n\\n\\n\\n\\n\\n\\nEasier evaluations with LangSmith SDK v0.2\\n\\n\\nBy LangChain\\n4 min read\\n\\n\\n\\n\\n\\n\\n\\n\\n\\n\\n\\n\\nLangGraph Platform in beta: New deployment options for scalable agent infrastructure\\n\\n\\nBy LangChain\\n4 min read\\n\\n\\n\\n\\n\\n\\n\\n\\n\\n\\n\\n\\nFew-shot prompting to improve tool-calling performance\\n\\n\\nBy LangChain\\n8 min read\\n\\n\\n\\n\\n\\n\\n\\n\\n\\n\\n\\n\\n\\n\\nSign up\\n\\n\\n\\n\\n\\n            © LangChain Blog 2025\\n        \\n\\n\\n\\n\\n\\n\\n\\n\\n\\n')]"
      ]
     },
     "execution_count": 3,
     "metadata": {},
     "output_type": "execute_result"
    }
   ],
   "source": [
    "from langchain_community.document_loaders import WebBaseLoader\n",
    "\n",
    "loader = WebBaseLoader(\"https://blog.langchain.dev/langgraph/\")\n",
    "\n",
    "docs = loader.load()\n",
    "docs"
   ]
  },
  {
   "cell_type": "markdown",
   "id": "45ba75ac",
   "metadata": {},
   "source": [
    "### 2- Split Docs"
   ]
  },
  {
   "cell_type": "code",
   "execution_count": 5,
   "id": "f45f538f",
   "metadata": {},
   "outputs": [
    {
     "data": {
      "text/plain": [
       "[Document(metadata={'source': 'https://blog.langchain.dev/langgraph/', 'title': 'LangGraph', 'language': 'en'}, page_content='LangGraph\\n\\n\\n\\n\\n\\n\\n\\n\\n\\n\\n\\n\\n\\n\\n\\n\\n\\n\\n\\n\\n\\n\\n\\n\\n\\n\\n\\n\\n\\n\\n\\n\\n\\n\\n\\n\\n\\n\\n\\n\\n\\n\\n\\n\\n\\n\\n\\n\\n\\n\\n\\n\\n\\nSkip to content\\n\\n\\n\\n\\n\\n\\n\\n\\n\\n\\n\\n\\n\\n\\n\\n\\nCase Studies\\n\\n\\n\\n\\nIn the Loop\\n\\n\\n\\n\\nLangChain\\n\\n\\n\\n\\nDocs\\n\\n\\n\\n\\nChangelog\\n\\n\\n\\n\\n\\nSign in\\nSubscribe\\n\\n\\n\\n\\n\\n\\n\\n\\n\\n\\n\\n\\n\\n\\n\\n\\n\\n\\n\\nLangGraph\\n\\nBy LangChain\\n7 min read\\nJan 17, 2024'),\n",
       " Document(metadata={'source': 'https://blog.langchain.dev/langgraph/', 'title': 'LangGraph', 'language': 'en'}, page_content='TL;DR: LangGraph is module built on top of LangChain to better enable creation of cyclical graphs, often needed for agent runtimes.Python RepoPython YouTube PlaylistJS RepoIntroductionOne of the things we highlighted in our LangChain v0.1 announcement was the introduction of a new library: LangGraph. LangGraph is built on top of LangChain and completely interoperable with the LangChain ecosystem. It adds new value primarily through the introduction of an easy way to create cyclical graphs. This is often useful when creating agent runtimes.In this blog post, we will first walk through the motivations for LangGraph. We will then cover the basic functionality it provides. We will then spotlight two agent runtimes we\\'ve implemented already. We will then highlight a few of the common modifications to these runtimes we\\'ve heard requests for, and examples of implementing those. We will finish with a preview of what we will be releasing next.MotivationOne of the big value props of LangChain is the ability to easily create custom chains. We\\'ve invested heavily in the functionality for this with LangChain Expression Language. However, so far we\\'ve lacked a method for easily introducing cycles into these chains. Effectively, these chains are directed acyclic graphs (DAGs) - as are most data orchestration frameworks.One of the common patterns we see when people are creating more complex LLM applications is the introduction of cycles into the runtime. These cycles often use the LLM to reason about what to do next in the cycle. A big unlock of LLMs is the ability to use them for these reasoning tasks. This can essentially be thought of as running an LLM in a for-loop. These types of systems are often called agents.An example of why this agentic behavior can be so powerful can be found when considering a typical retrieval augmented generation (RAG) application. In a typical RAG application, a call to a retriever is made that returns some documents. These documents are then passed to an LLM to generate a final answer. While this is often effective, it breaks down in cases when the first retrieval step fails to return any useful results. In this case, it\\'s often ideal if the LLM can reason that the results returned from the retriever are poor, and maybe issue a second (more refined) query to the retriever, and use those results instead. Essentially, running an LLM in a loop helps create applications that are more flexible and thus can accomplish more vague use-cases that may not be predefined.These types of applications are often called agents. The simplest - but at the same time most ambitious - form of these is a loop that essentially has two steps:Call the LLM to determine either (a) what actions to take, or (b) what response to give the userTake given actions, and pass back to step 1These steps are repeated until a final response is generated. This is essentially the loop that powers our core AgentExecutor, and is the same logic that caused projects like AutoGPT to rise in prominence. This is simple because it is a relatively simple loop. It is the most ambitious because it offloads pretty much ALL of the decision making and reasoning ability to the LLM.One thing we\\'ve seen in practice as we\\'ve worked the community and companies to put agents into production is that often times more control is needed. You may want to always force an agent to call particular tool first. You may want have more control over how tools are called. You may want to have different prompts for the agent, depending on that state it is in.When talking about these more controlled flows, we internally refer to them as \"state machines\". See the below diagram from our blog on cognitive architectures.These state machines have the power of being able to loop - allowing for handling of more ambiguous inputs than simple chains. However, there is still an element of human guidance in terms of how that loop is constructed.LangGraph is a way to create these state machines by'),\n",
       " Document(metadata={'source': 'https://blog.langchain.dev/langgraph/', 'title': 'LangGraph', 'language': 'en'}, page_content=\"of more ambiguous inputs than simple chains. However, there is still an element of human guidance in terms of how that loop is constructed.LangGraph is a way to create these state machines by specifying them as graphs.FunctionalityAt it's core, LangGraph exposes a pretty narrow interface on top of LangChain.StateGraphStateGraph is a class that represents the graph. You initialize this class by passing in a state definition. This state definition represents a central state object that is updated over time. This state is updated by nodes in the graph, which return operations to attributes of this state (in the form of a key-value store).The attributes of this state can be updated in two ways. First, an attribute could be overridden completely. This is useful if you want to nodes to return the new value of an attribute. Second, an attribute could be updated by adding to its value. This is useful if an attribute is a list of actions taken (or something similar) and you want nodes to return new actions taken (and have those automatically added to the attribute).You specify whether an attribute should be overridden or added to when creating the initial state definition. See an example in pseudocode below.from langgraph.graph import StateGraph\"),\n",
       " Document(metadata={'source': 'https://blog.langchain.dev/langgraph/', 'title': 'LangGraph', 'language': 'en'}, page_content='from typing import TypedDict, List, Annotated\\nimport Operator'),\n",
       " Document(metadata={'source': 'https://blog.langchain.dev/langgraph/', 'title': 'LangGraph', 'language': 'en'}, page_content='class State(TypedDict):\\n    input: str\\n    all_actions: Annotated[List[str], operator.add]\\n\\n\\ngraph = StateGraph(State)NodesAfter creating a StateGraph, you then add nodes with graph.add_node(name, value) syntax. The name parameter should be a string that we will use to refer to the node when adding edges. The value parameter should be either a function or LCEL runnable that will be called. This function/LCEL should accept a dictionary in the same form as the State object as input, and output a dictionary with keys of the State object to update.See an example in pseudocode below.graph.add_node(\"model\", model)\\ngraph.add_node(\"tools\", tool_executor)There is also a special END node that is used to represent the end of the graph. It is important that your cycles be able to end eventually!from langgraph.graph import ENDEdgesAfter adding nodes, you can then add edges to create the graph. There are a few types of edges.The Starting EdgeThis is the edge that connects the start of the graph to a particular node. This will make it so that that node is the first one called when input is passed to the graph. Pseudocode for that is:graph.set_entry_point(\"model\")Normal EdgesThese are edges where one node should ALWAYS be called after another. An example of this may be in the basic agent runtime, where we always want the model to be called after we call a tool.graph.add_edge(\"tools\", \"model\")Conditional EdgesThese are where a function (often powered by an LLM) is used to determine which node to go to first. To create this edge, you need to pass in three things:The upstream node: the output of this node will be looked at to determine what to do nextA function: this will be called to determine which node to call next. It should return a stringA mapping: this mapping will be used to map the output of the function in (2) to another node. The keys should be possible values that the function in (2) could return. The values should be names of nodes to go to if that value is returned.An example of this could be that after a model is called we either exit the graph and return to the user, or we call a tool - depending on what a user decides! See an example in pseudocode below:graph.add_conditional_edge(\\n    \"model\",\\n    should_continue,\\n    {\\n        \"end\": END,\\n        \"continue\": \"tools\"\\n    }\\n)CompileAfter we define our graph, we can compile it into a runnable! This simply takes the graph definition we\\'ve created so far an returns a runnable. This runnable exposes all the same method as LangChain runnables (.invoke, .stream, .astream_log, etc) allowing it to be called in the same manner as a chain.app = graph.compile()Agent ExecutorWe\\'ve recreated the canonical LangChain AgentExecutor with LangGraph. This will allow you to use existing LangChain agents, but allow you to more easily modify the internals of the AgentExecutor. The state of this graph by default contains concepts that should be familiar to you if you\\'ve used LangChain agents: input, chat_history, intermediate_steps (and agent_outcome to represent the most recent agent outcome)from typing import TypedDict, Annotated, List, Union\\nfrom langchain_core.agents import AgentAction, AgentFinish\\nfrom langchain_core.messages import BaseMessage\\nimport operator'),\n",
       " Document(metadata={'source': 'https://blog.langchain.dev/langgraph/', 'title': 'LangGraph', 'language': 'en'}, page_content='class AgentState(TypedDict):\\n   input: str\\n   chat_history: list[BaseMessage]\\n   agent_outcome: Union[AgentAction, AgentFinish, None]\\n   intermediate_steps: Annotated[list[tuple[AgentAction, str]], operator.add] See this notebook for how to get startedChat Agent ExecutorOne common trend we\\'ve seen is that more and more models are \"chat\" models which operate on a list of messages. This models are often the ones equipped with things like function calling, which make agent-like experiences much more feasible. When working with these types of models, it is often intuitive to represent the state of an agent as a list of messages.As such, we\\'ve created an agent runtime that works with this state. The input is a list of messages, and nodes just simply add to this list of messages over time.from typing import TypedDict, Annotated, Sequence\\nimport operator\\nfrom langchain_core.messages import BaseMessage\\n\\n\\nclass AgentState(TypedDict):\\n    messages: Annotated[Sequence[BaseMessage], operator.add] See this notebook for how to get startedModificationsOne of the big benefits of LangGraph is that it exposes the logic of AgentExecutor in a far more natural and modifiable way. We\\'ve provided a few examples of modifications that we\\'ve heard requests for:Force Calling a ToolFor when you always want to make an agent call a tool first. For Agent Executor and Chat Agent Executor.Human-in-the-loopHow to add a human-in-the-loop step before calling tools. For Agent Executor and Chat Agent Executor.Managing Agent StepsFor adding custom logic on how to handle the intermediate steps an agent might take (useful for when there\\'s a lot of steps). For Agent Executor and Chat Agent Executor.Returning Output in a Specific FormatHow to make the agent return output in a specific format using function calling. Only for Chat Agent Executor.Dynamically Returning the Output of a Tool DirectlySometimes you may want to return the output of a tool directly. We provide an easy way to do with the return_direct parameter in LangChain. However, this makes it so that the output of a tool is ALWAYS returned directly. Sometimes, you may want to let the LLM choose whether to return the response directly or not. Only for Chat Agent Executor.Future WorkWe\\'re incredibly excited about the possibility of LangGraph enabling more custom and powerful agent runtimes. Some of the things we are looking to implement in the near future:More advanced agent runtimes from academia (LLM Compiler, plan-and-solve, etc)Stateful tools (allowing tools to modify some state)More controlled human-in-the-loop workflowsMulti-agent workflowsIf any of these resonate with you, please feel free to add an example notebook in the LangGraph repo, or reach out to us at hello@langchain.dev for more involved collaboration!\\n\\n\\nTags\\nBy LangChain\\n\\n\\nJoin our newsletter\\nUpdates from the LangChain team and community\\n\\n\\nEnter your email\\n\\nSubscribe\\n\\nProcessing your application...\\nSuccess! Please check your inbox and click the link to confirm your subscription.\\nSorry, something went wrong. Please try again.\\n\\n\\n\\n\\n\\nYou might also like\\n\\n\\n\\n\\n\\n\\n\\n\\n\\n\\nIntroducing End-to-End OpenTelemetry Support in LangSmith\\n\\n\\nBy LangChain\\n3 min read\\n\\n\\n\\n\\n\\n\\n\\n\\n\\n\\n\\n\\nLangChain State of AI 2024 Report\\n\\n\\nBy LangChain\\n6 min read\\n\\n\\n\\n\\n\\n\\n\\n\\n\\n\\n\\n\\nIntroducing OpenTelemetry support for LangSmith\\n\\n\\nBy LangChain\\n4 min read\\n\\n\\n\\n\\n\\n\\n\\n\\n\\n\\n\\n\\nEasier evaluations with LangSmith SDK v0.2\\n\\n\\nBy LangChain\\n4 min read\\n\\n\\n\\n\\n\\n\\n\\n\\n\\n\\n\\n\\nLangGraph Platform in beta: New deployment options for scalable agent infrastructure\\n\\n\\nBy LangChain\\n4 min read\\n\\n\\n\\n\\n\\n\\n\\n\\n\\n\\n\\n\\nFew-shot prompting to improve tool-calling performance\\n\\n\\nBy LangChain\\n8 min read\\n\\n\\n\\n\\n\\n\\n\\n\\n\\n\\n\\n\\n\\n\\nSign up\\n\\n\\n\\n\\n\\n            © LangChain Blog 2025')]"
      ]
     },
     "execution_count": 5,
     "metadata": {},
     "output_type": "execute_result"
    }
   ],
   "source": [
    "from langchain.text_splitter import RecursiveCharacterTextSplitter\n",
    "\n",
    "text_splitter = RecursiveCharacterTextSplitter()\n",
    "\n",
    "documents = text_splitter.split_documents(docs)\n",
    "documents"
   ]
  },
  {
   "cell_type": "markdown",
   "id": "fe00f215",
   "metadata": {},
   "source": [
    "### 3- Embeddings"
   ]
  },
  {
   "cell_type": "code",
   "execution_count": 6,
   "id": "239bc433",
   "metadata": {},
   "outputs": [],
   "source": [
    "from langchain_openai import OpenAIEmbeddings\n",
    "\n",
    "embeddings = OpenAIEmbeddings()"
   ]
  },
  {
   "cell_type": "markdown",
   "id": "b4d8fb8c",
   "metadata": {},
   "source": [
    "### 4- Vector Search"
   ]
  },
  {
   "cell_type": "code",
   "execution_count": 10,
   "id": "b8a6e44c",
   "metadata": {},
   "outputs": [],
   "source": [
    "from langchain_community.vectorstores import FAISS\n",
    "\n",
    "vector = FAISS.from_documents(documents, embeddings)"
   ]
  },
  {
   "cell_type": "markdown",
   "id": "a2a28951",
   "metadata": {},
   "source": [
    "### 5- Retriever"
   ]
  },
  {
   "cell_type": "code",
   "execution_count": 12,
   "id": "f1f7b35a",
   "metadata": {},
   "outputs": [
    {
     "data": {
      "text/plain": [
       "[Document(id='649c298e-1812-4c61-ae58-31de9ccabeef', metadata={'source': 'https://blog.langchain.dev/langgraph/', 'title': 'LangGraph', 'language': 'en'}, page_content='TL;DR: LangGraph is module built on top of LangChain to better enable creation of cyclical graphs, often needed for agent runtimes.Python RepoPython YouTube PlaylistJS RepoIntroductionOne of the things we highlighted in our LangChain v0.1 announcement was the introduction of a new library: LangGraph. LangGraph is built on top of LangChain and completely interoperable with the LangChain ecosystem. It adds new value primarily through the introduction of an easy way to create cyclical graphs. This is often useful when creating agent runtimes.In this blog post, we will first walk through the motivations for LangGraph. We will then cover the basic functionality it provides. We will then spotlight two agent runtimes we\\'ve implemented already. We will then highlight a few of the common modifications to these runtimes we\\'ve heard requests for, and examples of implementing those. We will finish with a preview of what we will be releasing next.MotivationOne of the big value props of LangChain is the ability to easily create custom chains. We\\'ve invested heavily in the functionality for this with LangChain Expression Language. However, so far we\\'ve lacked a method for easily introducing cycles into these chains. Effectively, these chains are directed acyclic graphs (DAGs) - as are most data orchestration frameworks.One of the common patterns we see when people are creating more complex LLM applications is the introduction of cycles into the runtime. These cycles often use the LLM to reason about what to do next in the cycle. A big unlock of LLMs is the ability to use them for these reasoning tasks. This can essentially be thought of as running an LLM in a for-loop. These types of systems are often called agents.An example of why this agentic behavior can be so powerful can be found when considering a typical retrieval augmented generation (RAG) application. In a typical RAG application, a call to a retriever is made that returns some documents. These documents are then passed to an LLM to generate a final answer. While this is often effective, it breaks down in cases when the first retrieval step fails to return any useful results. In this case, it\\'s often ideal if the LLM can reason that the results returned from the retriever are poor, and maybe issue a second (more refined) query to the retriever, and use those results instead. Essentially, running an LLM in a loop helps create applications that are more flexible and thus can accomplish more vague use-cases that may not be predefined.These types of applications are often called agents. The simplest - but at the same time most ambitious - form of these is a loop that essentially has two steps:Call the LLM to determine either (a) what actions to take, or (b) what response to give the userTake given actions, and pass back to step 1These steps are repeated until a final response is generated. This is essentially the loop that powers our core AgentExecutor, and is the same logic that caused projects like AutoGPT to rise in prominence. This is simple because it is a relatively simple loop. It is the most ambitious because it offloads pretty much ALL of the decision making and reasoning ability to the LLM.One thing we\\'ve seen in practice as we\\'ve worked the community and companies to put agents into production is that often times more control is needed. You may want to always force an agent to call particular tool first. You may want have more control over how tools are called. You may want to have different prompts for the agent, depending on that state it is in.When talking about these more controlled flows, we internally refer to them as \"state machines\". See the below diagram from our blog on cognitive architectures.These state machines have the power of being able to loop - allowing for handling of more ambiguous inputs than simple chains. However, there is still an element of human guidance in terms of how that loop is constructed.LangGraph is a way to create these state machines by'),\n",
       " Document(id='485b1064-5ef8-4379-b878-1c2b454f0f5d', metadata={'source': 'https://blog.langchain.dev/langgraph/', 'title': 'LangGraph', 'language': 'en'}, page_content='LangGraph\\n\\n\\n\\n\\n\\n\\n\\n\\n\\n\\n\\n\\n\\n\\n\\n\\n\\n\\n\\n\\n\\n\\n\\n\\n\\n\\n\\n\\n\\n\\n\\n\\n\\n\\n\\n\\n\\n\\n\\n\\n\\n\\n\\n\\n\\n\\n\\n\\n\\n\\n\\n\\n\\nSkip to content\\n\\n\\n\\n\\n\\n\\n\\n\\n\\n\\n\\n\\n\\n\\n\\n\\nCase Studies\\n\\n\\n\\n\\nIn the Loop\\n\\n\\n\\n\\nLangChain\\n\\n\\n\\n\\nDocs\\n\\n\\n\\n\\nChangelog\\n\\n\\n\\n\\n\\nSign in\\nSubscribe\\n\\n\\n\\n\\n\\n\\n\\n\\n\\n\\n\\n\\n\\n\\n\\n\\n\\n\\n\\nLangGraph\\n\\nBy LangChain\\n7 min read\\nJan 17, 2024'),\n",
       " Document(id='f69f846e-c88e-410b-aaf2-70dda6ab20e0', metadata={'source': 'https://blog.langchain.dev/langgraph/', 'title': 'LangGraph', 'language': 'en'}, page_content=\"of more ambiguous inputs than simple chains. However, there is still an element of human guidance in terms of how that loop is constructed.LangGraph is a way to create these state machines by specifying them as graphs.FunctionalityAt it's core, LangGraph exposes a pretty narrow interface on top of LangChain.StateGraphStateGraph is a class that represents the graph. You initialize this class by passing in a state definition. This state definition represents a central state object that is updated over time. This state is updated by nodes in the graph, which return operations to attributes of this state (in the form of a key-value store).The attributes of this state can be updated in two ways. First, an attribute could be overridden completely. This is useful if you want to nodes to return the new value of an attribute. Second, an attribute could be updated by adding to its value. This is useful if an attribute is a list of actions taken (or something similar) and you want nodes to return new actions taken (and have those automatically added to the attribute).You specify whether an attribute should be overridden or added to when creating the initial state definition. See an example in pseudocode below.from langgraph.graph import StateGraph\"),\n",
       " Document(id='75d0225b-cde8-4c7c-be3c-be5654e186e5', metadata={'source': 'https://blog.langchain.dev/langgraph/', 'title': 'LangGraph', 'language': 'en'}, page_content='class State(TypedDict):\\n    input: str\\n    all_actions: Annotated[List[str], operator.add]\\n\\n\\ngraph = StateGraph(State)NodesAfter creating a StateGraph, you then add nodes with graph.add_node(name, value) syntax. The name parameter should be a string that we will use to refer to the node when adding edges. The value parameter should be either a function or LCEL runnable that will be called. This function/LCEL should accept a dictionary in the same form as the State object as input, and output a dictionary with keys of the State object to update.See an example in pseudocode below.graph.add_node(\"model\", model)\\ngraph.add_node(\"tools\", tool_executor)There is also a special END node that is used to represent the end of the graph. It is important that your cycles be able to end eventually!from langgraph.graph import ENDEdgesAfter adding nodes, you can then add edges to create the graph. There are a few types of edges.The Starting EdgeThis is the edge that connects the start of the graph to a particular node. This will make it so that that node is the first one called when input is passed to the graph. Pseudocode for that is:graph.set_entry_point(\"model\")Normal EdgesThese are edges where one node should ALWAYS be called after another. An example of this may be in the basic agent runtime, where we always want the model to be called after we call a tool.graph.add_edge(\"tools\", \"model\")Conditional EdgesThese are where a function (often powered by an LLM) is used to determine which node to go to first. To create this edge, you need to pass in three things:The upstream node: the output of this node will be looked at to determine what to do nextA function: this will be called to determine which node to call next. It should return a stringA mapping: this mapping will be used to map the output of the function in (2) to another node. The keys should be possible values that the function in (2) could return. The values should be names of nodes to go to if that value is returned.An example of this could be that after a model is called we either exit the graph and return to the user, or we call a tool - depending on what a user decides! See an example in pseudocode below:graph.add_conditional_edge(\\n    \"model\",\\n    should_continue,\\n    {\\n        \"end\": END,\\n        \"continue\": \"tools\"\\n    }\\n)CompileAfter we define our graph, we can compile it into a runnable! This simply takes the graph definition we\\'ve created so far an returns a runnable. This runnable exposes all the same method as LangChain runnables (.invoke, .stream, .astream_log, etc) allowing it to be called in the same manner as a chain.app = graph.compile()Agent ExecutorWe\\'ve recreated the canonical LangChain AgentExecutor with LangGraph. This will allow you to use existing LangChain agents, but allow you to more easily modify the internals of the AgentExecutor. The state of this graph by default contains concepts that should be familiar to you if you\\'ve used LangChain agents: input, chat_history, intermediate_steps (and agent_outcome to represent the most recent agent outcome)from typing import TypedDict, Annotated, List, Union\\nfrom langchain_core.agents import AgentAction, AgentFinish\\nfrom langchain_core.messages import BaseMessage\\nimport operator')]"
      ]
     },
     "execution_count": 12,
     "metadata": {},
     "output_type": "execute_result"
    }
   ],
   "source": [
    "retriever = vector.as_retriever()\n",
    "\n",
    "retriever.get_relevant_documents(\"What is LangGraph?\")"
   ]
  },
  {
   "cell_type": "code",
   "execution_count": 13,
   "id": "3b0627ef",
   "metadata": {},
   "outputs": [],
   "source": [
    "from langchain.tools.retriever import create_retriever_tool\n",
    "\n",
    "retriever_tool = create_retriever_tool(\n",
    "    retriever,\n",
    "    \"langgraph_search\",\n",
    "    \"Search for information about LangGraph. For any question\\\n",
    "        about Langraph, you have to use this tool!\",\n",
    ")"
   ]
  },
  {
   "cell_type": "code",
   "execution_count": 17,
   "id": "a3aa23a0",
   "metadata": {},
   "outputs": [],
   "source": [
    "from langchain_community.tools.tavily_search import TavilySearchResults\n",
    "\n",
    "search=TavilySearchResults()"
   ]
  },
  {
   "cell_type": "code",
   "execution_count": 18,
   "id": "f5052967",
   "metadata": {},
   "outputs": [
    {
     "data": {
      "text/plain": [
       "[{'title': 'Weather Çekmeköy in July 2025: Temperature & Climate',\n",
       "  'url': 'https://en.climate-data.org/asia/turkey/istanbul/cekmekoey-53157/t/july-7/',\n",
       "  'content': '| April | 11.7  (53.1) | 8.3  (46.9) | 15.3  (59.6) | 51  (2) | 74% | 6 | 9.0 |\\n| May | 16.7  (62) | 13.1  (55.5) | 20.2  (68.4) | 38  (1.5) | 72% | 4 | 11.0 |\\n| June | 21.3  (70.4) | 17.8  (64) | 24.8  (76.6) | 39  (1.5) | 70% | 4 | 12.0 |\\n| July | 23.9  (75) | 20.5  (69) | 27.4  (81.4) | 28  (1.1) | 68% | 4 | 12.0 |\\n| August | 24.2  (75.6) | 21.3  (70.3) | 27.7  (81.8) | 28  (1.1) | 69% | 4 | 11.0 |\\n| September | 20.7  (69.2) | 18  (64.4) | 23.8  (74.8) | 55  (2.2) | 70% | 5 | 9.0 | [...] 5.6 °C\\n\\n(42.1) °F\\n\\n6.1 °C\\n\\n(43.1) °F\\n\\n8.2 °C\\n\\n(46.8) °F\\n\\n11.7 °C\\n\\n(53.1) °F\\n\\n16.7 °C\\n\\n(62) °F\\n\\n21.3 °C\\n\\n(70.4) °F\\n\\n23.9 °C\\n\\n(75) °F\\n\\n24.2 °C\\n\\n(75.6) °F\\n\\n20.7 °C\\n\\n(69.2) °F\\n\\n16 °C\\n\\n(60.8) °F\\n\\n11.9 °C\\n\\n(53.4) °F\\n\\n7.6 °C\\n\\n(45.8) °F\\n\\n3.4 °C\\n\\n(38.1) °F\\n\\n3.7 °C\\n\\n(38.7) °F\\n\\n5.2 °C\\n\\n(41.4) °F\\n\\n8.3 °C\\n\\n(46.9) °F\\n\\n13.1 °C\\n\\n(55.5) °F\\n\\n17.8 °C\\n\\n(64) °F\\n\\n20.5 °C\\n\\n(69) °F\\n\\n21.3 °C\\n\\n(70.3) °F\\n\\n18 °C\\n\\n(64.4) °F\\n\\n13.7 °C\\n\\n(56.7) °F\\n\\n9.6 °C\\n\\n(49.3) °F\\n\\n5.6 °C\\n\\n(42) °F\\n\\n7.9 °C\\n\\n(46.2) °F\\n\\n8.7 °C\\n\\n(47.7) °F [...] | Min. Temperature °C (°F) | 3.4 °C  (38.1) °F | 3.7 °C  (38.7) °F | 5.2 °C  (41.4) °F | 8.3 °C  (46.9) °F | 13.1 °C  (55.5) °F | 17.8 °C  (64) °F | 20.5 °C  (69) °F | 21.3 °C  (70.3) °F | 18 °C  (64.4) °F | 13.7 °C  (56.7) °F | 9.6 °C  (49.3) °F | 5.6 °C  (42) °F |',\n",
       "  'score': 0.8003337},\n",
       " {'title': 'Istanbul 30 days weather forecast, Istanbul weather forecast',\n",
       "  'url': 'https://www.qweather.com/en/weather30d/istanbul-6BCF4.html',\n",
       "  'content': 'Istanbul. Istanbul Province - Turkey. 2025-07-04. In the next 30 days, there will be no rain or snow, the Max Temp is 34°(09-Jul) and the Min Temp is',\n",
       "  'score': 0.7728226},\n",
       " {'title': 'Çekmeköy - Long term forecast - Yr',\n",
       "  'url': 'https://www.yr.no/en/forecast/daily-table/2-749387/Republic%20of%20T%C3%BCrkiye/Istanbul/%C3%87ekmek%C3%B6y/%C3%87ekmek%C3%B6y',\n",
       "  'content': '... WindPrecip. Today 4 July. Afternoon: clear sky. Evening: clear sky. Maximum minimum temperature:28°/21°. Precipitation 0 mm. Wind:6 m/s. Saturday 5 July.',\n",
       "  'score': 0.7327644},\n",
       " {'title': 'Weather forecast in Cekmekoy, Istanbul, Turkey, for a month - Meteum',\n",
       "  'url': 'https://meteum.ai/weather/en/cekmekoy/month',\n",
       "  'content': 'Weather map · Detailed 10 day forecast · Weather forecast for July 4 · Magnetic storms in Cekmekoy · Atmospheric pressure in Cekmekoy. Download app. ©2025',\n",
       "  'score': 0.6922474},\n",
       " {'title': 'Weather in Çekmeköy in July 2025 - Tripvenue',\n",
       "  'url': 'https://tripvenue.com/weather/turkey/l8521532/cekmekoey/july',\n",
       "  'content': 'The average nighttime and daytime temperatures during July in Çekmeköy are °C and °C respectively. The precipitation sum in July is about mm. Çekmeköy - weather',\n",
       "  'score': 0.65966886}]"
      ]
     },
     "execution_count": 18,
     "metadata": {},
     "output_type": "execute_result"
    }
   ],
   "source": [
    "search.invoke(\"what is the weather in cekmekoy?\")"
   ]
  },
  {
   "cell_type": "code",
   "execution_count": 19,
   "id": "8e63301e",
   "metadata": {},
   "outputs": [],
   "source": [
    "tools = [retriever_tool, search]"
   ]
  },
  {
   "cell_type": "markdown",
   "id": "b1393d39",
   "metadata": {},
   "source": [
    "### 6- Load the Model"
   ]
  },
  {
   "cell_type": "code",
   "execution_count": 22,
   "id": "d8696c8a",
   "metadata": {},
   "outputs": [],
   "source": [
    "from langchain_openai import ChatOpenAI\n",
    "\n",
    "model = ChatOpenAI()"
   ]
  },
  {
   "cell_type": "markdown",
   "id": "b43e2e9b",
   "metadata": {},
   "source": [
    "### 7- Tool Agent"
   ]
  },
  {
   "cell_type": "code",
   "execution_count": 23,
   "id": "91804256",
   "metadata": {},
   "outputs": [
    {
     "name": "stderr",
     "output_type": "stream",
     "text": [
      "c:\\Users\\scald\\Downloads\\AI PROJECTS\\4- LangChain\\2-pratik\\.venv\\Lib\\site-packages\\langsmith\\client.py:272: LangSmithMissingAPIKeyWarning: API key must be provided when using hosted LangSmith API\n",
      "  warnings.warn(\n"
     ]
    },
    {
     "data": {
      "text/plain": [
       "[SystemMessagePromptTemplate(prompt=PromptTemplate(input_variables=[], input_types={}, partial_variables={}, template='You are a helpful assistant'), additional_kwargs={}),\n",
       " MessagesPlaceholder(variable_name='chat_history', optional=True),\n",
       " HumanMessagePromptTemplate(prompt=PromptTemplate(input_variables=['input'], input_types={}, partial_variables={}, template='{input}'), additional_kwargs={}),\n",
       " MessagesPlaceholder(variable_name='agent_scratchpad')]"
      ]
     },
     "execution_count": 23,
     "metadata": {},
     "output_type": "execute_result"
    }
   ],
   "source": [
    "from langchain import hub\n",
    "\n",
    "prompt = hub.pull(\"hwchase17/openai-functions-agent\")\n",
    "prompt.messages"
   ]
  },
  {
   "cell_type": "code",
   "execution_count": 24,
   "id": "ddbc933e",
   "metadata": {},
   "outputs": [],
   "source": [
    "from langchain.agents import create_openai_functions_agent\n",
    "\n",
    "agent = create_openai_functions_agent(model, tools, prompt)"
   ]
  },
  {
   "cell_type": "code",
   "execution_count": 25,
   "id": "113237fd",
   "metadata": {},
   "outputs": [],
   "source": [
    "from langchain.agents import AgentExecutor\n",
    "\n",
    "agent_executor = AgentExecutor(\n",
    "    agent=agent,\n",
    "    tools=tools,\n",
    "    verbose=True,\n",
    ")"
   ]
  },
  {
   "cell_type": "code",
   "execution_count": 26,
   "id": "58819e08",
   "metadata": {},
   "outputs": [
    {
     "name": "stdout",
     "output_type": "stream",
     "text": [
      "\n",
      "\n",
      "\u001b[1m> Entering new AgentExecutor chain...\u001b[0m\n",
      "\u001b[32;1m\u001b[1;3mHello! How can I assist you today?\u001b[0m\n",
      "\n",
      "\u001b[1m> Finished chain.\u001b[0m\n"
     ]
    },
    {
     "data": {
      "text/plain": [
       "{'input': 'Hi Mr. Pasha!', 'output': 'Hello! How can I assist you today?'}"
      ]
     },
     "execution_count": 26,
     "metadata": {},
     "output_type": "execute_result"
    }
   ],
   "source": [
    "agent_executor.invoke(\n",
    "    {\n",
    "        \"input\": \"Hi Mr. Pasha!\"\n",
    "    }\n",
    ")"
   ]
  },
  {
   "cell_type": "code",
   "execution_count": 27,
   "id": "60b5b3c9",
   "metadata": {},
   "outputs": [
    {
     "name": "stdout",
     "output_type": "stream",
     "text": [
      "\n",
      "\n",
      "\u001b[1m> Entering new AgentExecutor chain...\u001b[0m\n",
      "\u001b[32;1m\u001b[1;3m\n",
      "Invoking: `tavily_search_results_json` with `{'query': 'weather in Halle'}`\n",
      "\n",
      "\n",
      "\u001b[0m\u001b[33;1m\u001b[1;3m[{'title': 'Halle weather in April 2025 | Halle 14 day weather - Weather25.com', 'url': 'https://www.weather25.com/europe/germany/saxony-anhalt/halle?page=month&month=April', 'content': '| 26 Partly cloudy 13° /3° | 27 Partly cloudy 15° /3° | 28 Partly cloudy 16° /5° | 29 Light rain shower 15° /7° | 30 Sunny 17° /6° |  |  | [...] Partly cloudy\\nOvercast\\nPartly cloudy\\nPartly cloudy\\nPartly cloudy\\nSunny\\nOvercast\\nOvercast\\nCloudy\\nOvercast\\nPartly cloudy\\nPartly cloudy\\nPatchy rain possible\\nPatchy rain possible\\nLight rain shower\\nPartly cloudy\\nMist\\nPartly cloudy\\nLight rain shower\\nSunny\\nPatchy rain possible\\nPatchy rain possible\\nOvercast\\nLight rain shower\\nOvercast\\nPartly cloudy\\nPartly cloudy\\nPartly cloudy\\nLight rain shower\\nSunny\\n\\n## Explore the weather in Halle in other months\\n\\n## Halle annual weather [...] | 12 Partly cloudy 15° /6° | 13 Patchy rain possible 15° /6° | 14 Patchy rain possible 13° /5° | 15 Light rain shower 12° /4° | 16 Partly cloudy 13° /4° | 17 Mist 11° /4° | 18 Partly cloudy 11° /4° |\\n| 19 Light rain shower 10° /4° | 20 Sunny 12° /3° | 21 Patchy rain possible 14° /5° | 22 Patchy rain possible 13° /4° | 23 Overcast 14° /5° | 24 Light rain shower 13° /5° | 25 Overcast 12° /4° |', 'score': 0.8849276}, {'title': 'Past Weather in Halle, Saxony-Anhalt, Germany — Yesterday or ...', 'url': 'https://www.timeanddate.com/weather/germany/halle/historic', 'content': 'Halle Weather History for the Previous 24 Hours ; Weather by CustomWeather, © 2025 ; Weather by CustomWeather, © 2025 ; 63 °F · 64 °F · Weather by CustomWeather, ©', 'score': 0.8235701}, {'title': 'Weather Halle (Saale) in July 2025: Temperature & Climate', 'url': 'https://en.climate-data.org/europe/germany/saxony-anhalt/halle-saale-6343/t/july-7/', 'content': '1.2 °C\\n\\n(34.2) °F\\n\\n1.9 °C\\n\\n(35.5) °F\\n\\n5 °C\\n\\n(41) °F\\n\\n9.8 °C\\n\\n(49.7) °F\\n\\n14.4 °C\\n\\n(57.9) °F\\n\\n17.7 °C\\n\\n(63.9) °F\\n\\n19.8 °C\\n\\n(67.7) °F\\n\\n19.5 °C\\n\\n(67.1) °F\\n\\n15.6 °C\\n\\n(60) °F\\n\\n10.8 °C\\n\\n(51.4) °F\\n\\n5.9 °C\\n\\n(42.7) °F\\n\\n2.6 °C\\n\\n(36.7) °F\\n\\n-1.1 °C\\n\\n(30) °F\\n\\n-0.9 °C\\n\\n(30.4) °F\\n\\n1.1 °C\\n\\n(34) °F\\n\\n5 °C\\n\\n(41) °F\\n\\n9.6 °C\\n\\n(49.2) °F\\n\\n13 °C\\n\\n(55.4) °F\\n\\n15.3 °C\\n\\n(59.5) °F\\n\\n15 °C\\n\\n(59.1) °F\\n\\n11.7 °C\\n\\n(53) °F\\n\\n7.6 °C\\n\\n(45.7) °F\\n\\n3.6 °C\\n\\n(38.4) °F\\n\\n0.5 °C\\n\\n(32.9) °F\\n\\n3.5 °C\\n\\n(38.4) °F\\n\\n5 °C\\n\\n(41.1) °F\\n\\n8.9 °C [...] | Min. Temperature °C (°F) | -1.1 °C  (30) °F | -0.9 °C  (30.4) °F | 1.1 °C  (34) °F | 5 °C  (41) °F | 9.6 °C  (49.2) °F | 13 °C  (55.4) °F | 15.3 °C  (59.5) °F | 15 °C  (59.1) °F | 11.7 °C  (53) °F | 7.6 °C  (45.7) °F | 3.6 °C  (38.4) °F | 0.5 °C  (32.9) °F | [...] | Max. Temperature °C (°F) | 3.5 °C  (38.4) °F | 5 °C  (41.1) °F | 8.9 °C  (48.1) °F | 14.4 °C  (57.9) °F | 18.8 °C  (65.8) °F | 22 °C  (71.5) °F | 24.1 °C  (75.3) °F | 23.8 °C  (74.9) °F | 19.6 °C  (67.3) °F | 14.2 °C  (57.5) °F | 8.5 °C  (47.3) °F | 4.7 °C  (40.4) °F |\\n| Precipitation / Rainfall mm (in) | 47  (1) | 36  (1) | 48  (1) | 40  (1) | 58  (2) | 55  (2) | 69  (2) | 60  (2) | 54  (2) | 44  (1) | 52  (2) | 52  (2) |', 'score': 0.79022324}, {'title': 'Halle weather in July 2025 | Halle 14 day weather - Weather25.com', 'url': 'https://www.weather25.com/europe/germany/saxony-anhalt/halle?page=month&month=July', 'content': 'Light rain shower\\nLight rain shower\\nPartly cloudy\\nPartly cloudy\\nPartly cloudy\\nOvercast\\nLight drizzle\\nPatchy light drizzle\\nOvercast\\nPatchy rain possible\\nPatchy rain possible\\nPartly cloudy\\nSunny\\nSunny\\nSunny\\nSunny\\nPartly cloudy\\nPartly cloudy\\nPatchy rain possible\\nPatchy rain possible\\nLight rain shower\\nPatchy rain possible\\nSunny\\nPatchy rain possible\\nPatchy rain possible\\nSunny\\nPartly cloudy\\nPatchy rain possible\\nLight rain shower\\nPartly cloudy\\nModerate or heavy rain shower [...] | Month | Temperatures | Rainy Days | Dry Days | Snowy Days | Rainfall | Weather | More details |\\n| --- | --- | --- | --- | --- | --- | --- | --- |\\n| January | 3° / -2° | 6 | 14 | 11 | 46 mm | Awful | Halle in January |\\n| February | 5° / -1° | 6 | 15 | 8 | 31 mm | Awful | Halle in February |\\n| March | 10° / 2° | 5 | 22 | 4 | 35 mm | Bad | Halle in March |\\n| April | 15° / 5° | 4 | 25 | 2 | 29 mm | Ok | Halle in April |\\n| May | 18° / 8° | 4 | 27 | 0 | 71 mm | Good | Halle in May | [...] weather25.com\\nSearch\\nweather in Germany\\nRemove from your favorite locations\\nAdd to my locations\\nShare\\nweather in Germany\\n\\n# Halle weather in July 2025\\n\\nPartly cloudy\\nPartly cloudy\\nOvercast\\nLight drizzle\\nPatchy light drizzle\\nOvercast\\nPatchy rain possible\\nPatchy rain possible\\nPartly cloudy\\nSunny\\nSunny\\nSunny\\nSunny\\nPartly cloudy\\n\\n## The average weather in Halle in July\\n\\nThe temperatures in Halle in July are comfortable with low of 15°C and and high up to 25°C.', 'score': 0.7783298}, {'title': 'Halle - Weather Forecast Maps - Ventusky', 'url': 'https://www.ventusky.com/halle', 'content': '# Ventusky: Weather Forecast Maps\\n\\nUV-index\\n\\n# Halle\\n\\n|  |  |\\n| --- | --- |\\n| overcast | 18 °C |\\n|  |\\n| Wind  6 km/h |\\n\\novercast\\n\\n|  |  |\\n| --- | --- |\\n| Humidity | 53 % |\\n| Air pressure | 1022 hPa |\\n| Snow cover | 0 cm |\\n| Visibility | 61 km |\\n| Clouds | 100 % |\\n| Cloud base | 6320 m |\\n\\nCalculated from nearby stations (01:00 2025/07/05)\\n\\n## Weather for the next 24 hours', 'score': 0.7703443}]\u001b[0m\u001b[32;1m\u001b[1;3mThe weather in Halle is currently overcast with a temperature of 18°C. The humidity is at 53%, and there is no snow cover. The wind speed is 6 km/h, and the air pressure is at 1022 hPa. If you would like to see more detailed weather information, you can visit [Ventusky - Weather Forecast Maps](https://www.ventusky.com/halle).\u001b[0m\n",
      "\n",
      "\u001b[1m> Finished chain.\u001b[0m\n"
     ]
    },
    {
     "data": {
      "text/plain": [
       "{'input': 'How is the weather in Halle?',\n",
       " 'output': 'The weather in Halle is currently overcast with a temperature of 18°C. The humidity is at 53%, and there is no snow cover. The wind speed is 6 km/h, and the air pressure is at 1022 hPa. If you would like to see more detailed weather information, you can visit [Ventusky - Weather Forecast Maps](https://www.ventusky.com/halle).'}"
      ]
     },
     "execution_count": 27,
     "metadata": {},
     "output_type": "execute_result"
    }
   ],
   "source": [
    "agent_executor.invoke(\n",
    "    {\n",
    "        \"input\": \"How is the weather in Halle?\"\n",
    "    }\n",
    ")"
   ]
  },
  {
   "cell_type": "code",
   "execution_count": 28,
   "id": "8cf3203c",
   "metadata": {},
   "outputs": [],
   "source": [
    "from langchain_core.messages import HumanMessage, AIMessage\n",
    "\n",
    "chat_history = [\n",
    "    HumanMessage(\n",
    "        content=\"Can I use LangGraph for agent runtimes?\"\n",
    "    ),\n",
    "    AIMessage(content=\"Yes, sure!\"),\n",
    "]"
   ]
  },
  {
   "cell_type": "code",
   "execution_count": null,
   "id": "2a40a7bd",
   "metadata": {},
   "outputs": [
    {
     "name": "stdout",
     "output_type": "stream",
     "text": [
      "\n",
      "\n",
      "\u001b[1m> Entering new AgentExecutor chain...\u001b[0m\n",
      "\u001b[32;1m\u001b[1;3m\n",
      "Invoking: `langgraph_search` with `{'query': 'How to use LangGraph for agent runtimes'}`\n",
      "\n",
      "\n",
      "\u001b[0m\u001b[36;1m\u001b[1;3mTL;DR: LangGraph is module built on top of LangChain to better enable creation of cyclical graphs, often needed for agent runtimes.Python RepoPython YouTube PlaylistJS RepoIntroductionOne of the things we highlighted in our LangChain v0.1 announcement was the introduction of a new library: LangGraph. LangGraph is built on top of LangChain and completely interoperable with the LangChain ecosystem. It adds new value primarily through the introduction of an easy way to create cyclical graphs. This is often useful when creating agent runtimes.In this blog post, we will first walk through the motivations for LangGraph. We will then cover the basic functionality it provides. We will then spotlight two agent runtimes we've implemented already. We will then highlight a few of the common modifications to these runtimes we've heard requests for, and examples of implementing those. We will finish with a preview of what we will be releasing next.MotivationOne of the big value props of LangChain is the ability to easily create custom chains. We've invested heavily in the functionality for this with LangChain Expression Language. However, so far we've lacked a method for easily introducing cycles into these chains. Effectively, these chains are directed acyclic graphs (DAGs) - as are most data orchestration frameworks.One of the common patterns we see when people are creating more complex LLM applications is the introduction of cycles into the runtime. These cycles often use the LLM to reason about what to do next in the cycle. A big unlock of LLMs is the ability to use them for these reasoning tasks. This can essentially be thought of as running an LLM in a for-loop. These types of systems are often called agents.An example of why this agentic behavior can be so powerful can be found when considering a typical retrieval augmented generation (RAG) application. In a typical RAG application, a call to a retriever is made that returns some documents. These documents are then passed to an LLM to generate a final answer. While this is often effective, it breaks down in cases when the first retrieval step fails to return any useful results. In this case, it's often ideal if the LLM can reason that the results returned from the retriever are poor, and maybe issue a second (more refined) query to the retriever, and use those results instead. Essentially, running an LLM in a loop helps create applications that are more flexible and thus can accomplish more vague use-cases that may not be predefined.These types of applications are often called agents. The simplest - but at the same time most ambitious - form of these is a loop that essentially has two steps:Call the LLM to determine either (a) what actions to take, or (b) what response to give the userTake given actions, and pass back to step 1These steps are repeated until a final response is generated. This is essentially the loop that powers our core AgentExecutor, and is the same logic that caused projects like AutoGPT to rise in prominence. This is simple because it is a relatively simple loop. It is the most ambitious because it offloads pretty much ALL of the decision making and reasoning ability to the LLM.One thing we've seen in practice as we've worked the community and companies to put agents into production is that often times more control is needed. You may want to always force an agent to call particular tool first. You may want have more control over how tools are called. You may want to have different prompts for the agent, depending on that state it is in.When talking about these more controlled flows, we internally refer to them as \"state machines\". See the below diagram from our blog on cognitive architectures.These state machines have the power of being able to loop - allowing for handling of more ambiguous inputs than simple chains. However, there is still an element of human guidance in terms of how that loop is constructed.LangGraph is a way to create these state machines by\n",
      "\n",
      "of more ambiguous inputs than simple chains. However, there is still an element of human guidance in terms of how that loop is constructed.LangGraph is a way to create these state machines by specifying them as graphs.FunctionalityAt it's core, LangGraph exposes a pretty narrow interface on top of LangChain.StateGraphStateGraph is a class that represents the graph. You initialize this class by passing in a state definition. This state definition represents a central state object that is updated over time. This state is updated by nodes in the graph, which return operations to attributes of this state (in the form of a key-value store).The attributes of this state can be updated in two ways. First, an attribute could be overridden completely. This is useful if you want to nodes to return the new value of an attribute. Second, an attribute could be updated by adding to its value. This is useful if an attribute is a list of actions taken (or something similar) and you want nodes to return new actions taken (and have those automatically added to the attribute).You specify whether an attribute should be overridden or added to when creating the initial state definition. See an example in pseudocode below.from langgraph.graph import StateGraph\n",
      "\n",
      "LangGraph\n",
      "\n",
      "\n",
      "\n",
      "\n",
      "\n",
      "\n",
      "\n",
      "\n",
      "\n",
      "\n",
      "\n",
      "\n",
      "\n",
      "\n",
      "\n",
      "\n",
      "\n",
      "\n",
      "\n",
      "\n",
      "\n",
      "\n",
      "\n",
      "\n",
      "\n",
      "\n",
      "\n",
      "\n",
      "\n",
      "\n",
      "\n",
      "\n",
      "\n",
      "\n",
      "\n",
      "\n",
      "\n",
      "\n",
      "\n",
      "\n",
      "\n",
      "\n",
      "\n",
      "\n",
      "\n",
      "\n",
      "\n",
      "\n",
      "\n",
      "\n",
      "\n",
      "\n",
      "\n",
      "Skip to content\n",
      "\n",
      "\n",
      "\n",
      "\n",
      "\n",
      "\n",
      "\n",
      "\n",
      "\n",
      "\n",
      "\n",
      "\n",
      "\n",
      "\n",
      "\n",
      "\n",
      "Case Studies\n",
      "\n",
      "\n",
      "\n",
      "\n",
      "In the Loop\n",
      "\n",
      "\n",
      "\n",
      "\n",
      "LangChain\n",
      "\n",
      "\n",
      "\n",
      "\n",
      "Docs\n",
      "\n",
      "\n",
      "\n",
      "\n",
      "Changelog\n",
      "\n",
      "\n",
      "\n",
      "\n",
      "\n",
      "Sign in\n",
      "Subscribe\n",
      "\n",
      "\n",
      "\n",
      "\n",
      "\n",
      "\n",
      "\n",
      "\n",
      "\n",
      "\n",
      "\n",
      "\n",
      "\n",
      "\n",
      "\n",
      "\n",
      "\n",
      "\n",
      "\n",
      "LangGraph\n",
      "\n",
      "By LangChain\n",
      "7 min read\n",
      "Jan 17, 2024\n",
      "\n",
      "class State(TypedDict):\n",
      "    input: str\n",
      "    all_actions: Annotated[List[str], operator.add]\n",
      "\n",
      "\n",
      "graph = StateGraph(State)NodesAfter creating a StateGraph, you then add nodes with graph.add_node(name, value) syntax. The name parameter should be a string that we will use to refer to the node when adding edges. The value parameter should be either a function or LCEL runnable that will be called. This function/LCEL should accept a dictionary in the same form as the State object as input, and output a dictionary with keys of the State object to update.See an example in pseudocode below.graph.add_node(\"model\", model)\n",
      "graph.add_node(\"tools\", tool_executor)There is also a special END node that is used to represent the end of the graph. It is important that your cycles be able to end eventually!from langgraph.graph import ENDEdgesAfter adding nodes, you can then add edges to create the graph. There are a few types of edges.The Starting EdgeThis is the edge that connects the start of the graph to a particular node. This will make it so that that node is the first one called when input is passed to the graph. Pseudocode for that is:graph.set_entry_point(\"model\")Normal EdgesThese are edges where one node should ALWAYS be called after another. An example of this may be in the basic agent runtime, where we always want the model to be called after we call a tool.graph.add_edge(\"tools\", \"model\")Conditional EdgesThese are where a function (often powered by an LLM) is used to determine which node to go to first. To create this edge, you need to pass in three things:The upstream node: the output of this node will be looked at to determine what to do nextA function: this will be called to determine which node to call next. It should return a stringA mapping: this mapping will be used to map the output of the function in (2) to another node. The keys should be possible values that the function in (2) could return. The values should be names of nodes to go to if that value is returned.An example of this could be that after a model is called we either exit the graph and return to the user, or we call a tool - depending on what a user decides! See an example in pseudocode below:graph.add_conditional_edge(\n",
      "    \"model\",\n",
      "    should_continue,\n",
      "    {\n",
      "        \"end\": END,\n",
      "        \"continue\": \"tools\"\n",
      "    }\n",
      ")CompileAfter we define our graph, we can compile it into a runnable! This simply takes the graph definition we've created so far an returns a runnable. This runnable exposes all the same method as LangChain runnables (.invoke, .stream, .astream_log, etc) allowing it to be called in the same manner as a chain.app = graph.compile()Agent ExecutorWe've recreated the canonical LangChain AgentExecutor with LangGraph. This will allow you to use existing LangChain agents, but allow you to more easily modify the internals of the AgentExecutor. The state of this graph by default contains concepts that should be familiar to you if you've used LangChain agents: input, chat_history, intermediate_steps (and agent_outcome to represent the most recent agent outcome)from typing import TypedDict, Annotated, List, Union\n",
      "from langchain_core.agents import AgentAction, AgentFinish\n",
      "from langchain_core.messages import BaseMessage\n",
      "import operator\u001b[0m\u001b[32;1m\u001b[1;3mLangGraph is a module built on top of LangChain to enable the creation of cyclical graphs, which are often needed for agent runtimes. One of the key functionalities of LangGraph is the ability to introduce cycles into chains, which are directed acyclic graphs (DAGs) in most data orchestration frameworks.\n",
      "\n",
      "LangGraph provides the `StateGraph` class, which represents the graph and allows you to define a central state object that is updated over time. Nodes in the graph update attributes of this state object, either by overriding them completely or by adding to their values. You can add nodes to the graph using the `graph.add_node(name, value)` syntax, where the name is a string to refer to the node and the value is a function or LCEL runnable that updates the state object.\n",
      "\n",
      "Edges can be added to connect nodes in the graph. There are different types of edges, including starting edges, normal edges, and conditional edges. Conditional edges use a function, often powered by an LLM, to determine which node to go to next based on the output of the current node.\n",
      "\n",
      "Once you have defined your graph, you can compile it into a runnable, which exposes methods for invocation and streaming similar to LangChain runnables. There is also an Agent Executor in LangGraph that allows you to use existing LangChain agents and modify the internals of the AgentExecutor.\n",
      "\n",
      "Overall, LangGraph provides a way to create state machines by specifying them as graphs, enabling the development of more complex agent runtimes with cyclical behavior.\u001b[0m\n",
      "\n",
      "\u001b[1m> Finished chain.\u001b[0m\n"
     ]
    },
    {
     "data": {
      "text/plain": [
       "{'chat_history': [HumanMessage(content='Can I use LangGraph for agent runtimes?', additional_kwargs={}, response_metadata={}),\n",
       "  AIMessage(content='Yes, sure!', additional_kwargs={}, response_metadata={})],\n",
       " 'input': 'Tell me how',\n",
       " 'output': 'LangGraph is a module built on top of LangChain to enable the creation of cyclical graphs, which are often needed for agent runtimes. One of the key functionalities of LangGraph is the ability to introduce cycles into chains, which are directed acyclic graphs (DAGs) in most data orchestration frameworks.\\n\\nLangGraph provides the `StateGraph` class, which represents the graph and allows you to define a central state object that is updated over time. Nodes in the graph update attributes of this state object, either by overriding them completely or by adding to their values. You can add nodes to the graph using the `graph.add_node(name, value)` syntax, where the name is a string to refer to the node and the value is a function or LCEL runnable that updates the state object.\\n\\nEdges can be added to connect nodes in the graph. There are different types of edges, including starting edges, normal edges, and conditional edges. Conditional edges use a function, often powered by an LLM, to determine which node to go to next based on the output of the current node.\\n\\nOnce you have defined your graph, you can compile it into a runnable, which exposes methods for invocation and streaming similar to LangChain runnables. There is also an Agent Executor in LangGraph that allows you to use existing LangChain agents and modify the internals of the AgentExecutor.\\n\\nOverall, LangGraph provides a way to create state machines by specifying them as graphs, enabling the development of more complex agent runtimes with cyclical behavior.'}"
      ]
     },
     "execution_count": 29,
     "metadata": {},
     "output_type": "execute_result"
    }
   ],
   "source": [
    "agent_executor.invoke(\n",
    "    {\n",
    "        \"chat_history\": chat_history,\n",
    "        \"input\": \"Tell me how\",\n",
    "    }\n",
    ")."
   ]
  },
  {
   "cell_type": "code",
   "execution_count": null,
   "id": "29c77105",
   "metadata": {},
   "outputs": [],
   "source": []
  }
 ],
 "metadata": {
  "kernelspec": {
   "display_name": ".venv",
   "language": "python",
   "name": "python3"
  },
  "language_info": {
   "codemirror_mode": {
    "name": "ipython",
    "version": 3
   },
   "file_extension": ".py",
   "mimetype": "text/x-python",
   "name": "python",
   "nbconvert_exporter": "python",
   "pygments_lexer": "ipython3",
   "version": "3.12.3"
  }
 },
 "nbformat": 4,
 "nbformat_minor": 5
}
